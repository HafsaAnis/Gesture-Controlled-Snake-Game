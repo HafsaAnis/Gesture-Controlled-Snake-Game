{
 "cells": [
  {
   "cell_type": "code",
   "execution_count": 2,
   "metadata": {
    "colab": {
     "base_uri": "https://localhost:8080/"
    },
    "executionInfo": {
     "elapsed": 27252,
     "status": "ok",
     "timestamp": 1684142430314,
     "user": {
      "displayName": "hafsa alishba maheen",
      "userId": "05956034788869836757"
     },
     "user_tz": -300
    },
    "id": "mFpW5YPzn09o",
    "outputId": "b70dcf63-66d8-4560-f068-a7c6e7bbb398"
   },
   "outputs": [
    {
     "name": "stdout",
     "output_type": "stream",
     "text": [
      "Mounted at /content/gdrive\n"
     ]
    }
   ],
   "source": [
    "from google.colab import drive\n",
    "drive.mount('/content/gdrive')"
   ]
  },
  {
   "cell_type": "code",
   "execution_count": 1,
   "metadata": {
    "executionInfo": {
     "elapsed": 398,
     "status": "ok",
     "timestamp": 1684142435678,
     "user": {
      "displayName": "hafsa alishba maheen",
      "userId": "05956034788869836757"
     },
     "user_tz": -300
    },
    "id": "AE-vpRBOoR6H"
   },
   "outputs": [],
   "source": [
    "dataset_dir = \"C:/Users/HP/Downloads/ProjectAI\""
   ]
  },
  {
   "cell_type": "code",
   "execution_count": 2,
   "metadata": {
    "executionInfo": {
     "elapsed": 3664,
     "status": "ok",
     "timestamp": 1684142441582,
     "user": {
      "displayName": "hafsa alishba maheen",
      "userId": "05956034788869836757"
     },
     "user_tz": -300
    },
    "id": "dV0VJotfog-u"
   },
   "outputs": [],
   "source": [
    "import numpy as np\n",
    "import cv2\n",
    "import matplotlib.pyplot as plt\n",
    "import os\n",
    "import random as rand\n",
    "from tensorflow import keras\n",
    "from tensorflow.keras import models, layers\n",
    "import tensorflow as tf\n",
    "import requests\n",
    "from PIL import Image"
   ]
  },
  {
   "cell_type": "code",
   "execution_count": 3,
   "metadata": {
    "executionInfo": {
     "elapsed": 3601,
     "status": "ok",
     "timestamp": 1684142447737,
     "user": {
      "displayName": "hafsa alishba maheen",
      "userId": "05956034788869836757"
     },
     "user_tz": -300
    },
    "id": "tvPV0CXDPg5i"
   },
   "outputs": [],
   "source": [
    "import keras\n",
    "config = tf.compat.v1.ConfigProto(device_count ={'GPU' : 1, 'CPU':56})\n",
    "sess = tf.compat.v1.Session(config=config)\n",
    "keras.backend.set_session(sess)"
   ]
  },
  {
   "cell_type": "code",
   "execution_count": 4,
   "metadata": {
    "executionInfo": {
     "elapsed": 382,
     "status": "ok",
     "timestamp": 1684142457246,
     "user": {
      "displayName": "hafsa alishba maheen",
      "userId": "05956034788869836757"
     },
     "user_tz": -300
    },
    "id": "aR1eKH72ojOZ"
   },
   "outputs": [],
   "source": [
    "# directory path where the images of cats and dogs is stored\n",
    "thumbsup = dataset_dir + \"/0\"\n",
    "thumbsdown = dataset_dir + \"/1\"\n",
    "thumbsleft = dataset_dir + \"/2\"\n",
    "thumbsright = dataset_dir + \"/3\"\n",
    "upguess = '0'\n",
    "downguess = '1'\n",
    "leftguess = '2'\n",
    "rightguess = '3'\n",
    "\n",
    "#print(os.listdir(dogpath))\n",
    "\n",
    "# values for the width and height of a single image\n",
    "img_resolution = [100,100]"
   ]
  },
  {
   "cell_type": "code",
   "execution_count": 5,
   "metadata": {
    "executionInfo": {
     "elapsed": 28873,
     "status": "ok",
     "timestamp": 1684142490650,
     "user": {
      "displayName": "hafsa alishba maheen",
      "userId": "05956034788869836757"
     },
     "user_tz": -300
    },
    "id": "M1JCS68Jom5y"
   },
   "outputs": [],
   "source": [
    "trainData = []\n",
    "labels =[]\n",
    "maxlen = 5000\n",
    "\n",
    "# looping over all cat images in the directory\n",
    "for upimage in os.listdir(thumbsup):\n",
    "    # getting the path of a single image\n",
    "    img = os.path.join(thumbsup,upimage)\n",
    "    # resizing and displaying the image\n",
    "    if img.endswith(\".jpg\"):\n",
    "      imgarr = cv2.imread(img)\n",
    "      if imgarr.shape != None:\n",
    "        # print(imgarr.shape)\n",
    "        imgarr = cv2.cvtColor(imgarr, cv2.COLOR_RGB2GRAY)\n",
    "        #imgarr = cv2.resize(imgarr, (img_resolution[0], img_resolution[1]))\n",
    "        trainData.append(imgarr)\n",
    "        labels.append([0])\n",
    "    if(len(trainData) == maxlen/4):\n",
    "        break\n",
    "        \n",
    "# looping over all cat images in the directory\n",
    "for downimage in os.listdir(thumbsdown):\n",
    "    # getting the path of a single image\n",
    "    img = os.path.join(thumbsdown,downimage)\n",
    "    # resizing and displaying the image\n",
    "    if img.endswith(\".jpg\"):\n",
    "      imgarr = cv2.imread(img)\n",
    "      imgarr = cv2.cvtColor(imgarr, cv2.COLOR_RGB2GRAY)\n",
    "      #imgarr = cv2.resize(imgarr, (img_resolution[0], img_resolution[1]))\n",
    "      trainData.append(imgarr)\n",
    "      labels.append([1])\n",
    "    if(len(trainData) == maxlen/4*2):\n",
    "          break\n",
    "\n",
    "for rightimage in os.listdir(thumbsright):\n",
    "    # getting the path of a single image\n",
    "    img = os.path.join(thumbsright,rightimage)\n",
    "    # resizing and displaying the image\n",
    "    if img.endswith(\".jpg\"):\n",
    "      imgarr = cv2.imread(img)\n",
    "      imgarr = cv2.cvtColor(imgarr, cv2.COLOR_RGB2GRAY)\n",
    "      #imgarr = cv2.resize(imgarr, (img_resolution[0], img_resolution[1]))\n",
    "      trainData.append(imgarr)\n",
    "      labels.append([2])\n",
    "\n",
    "    if(len(trainData) == maxlen/4*3):\n",
    "        break\n",
    "\n",
    "for leftimage in os.listdir(thumbsleft):\n",
    "    # getting the path of a single image\n",
    "    img = os.path.join(thumbsleft,leftimage)\n",
    "    # resizing and displaying the image\n",
    "    if img.endswith(\".jpg\"):\n",
    "      imgarr = cv2.imread(img)\n",
    "      imgarr = cv2.cvtColor(imgarr, cv2.COLOR_RGB2GRAY)\n",
    "      # print(gray_Scale.shape)\n",
    "      #imgarr = cv2.resize(imgarr, (img_resolution[0], img_resolution[1]))\n",
    "      trainData.append(imgarr)\n",
    "      labels.append([3])\n",
    "    if(len(trainData) == maxlen):\n",
    "        break"
   ]
  },
  {
   "cell_type": "code",
   "execution_count": 6,
   "metadata": {
    "colab": {
     "base_uri": "https://localhost:8080/"
    },
    "executionInfo": {
     "elapsed": 375,
     "status": "ok",
     "timestamp": 1684142494614,
     "user": {
      "displayName": "hafsa alishba maheen",
      "userId": "05956034788869836757"
     },
     "user_tz": -300
    },
    "id": "kKsrITbdK4mD",
    "outputId": "77789597-6f48-4aaa-e4fb-099560c07f50"
   },
   "outputs": [
    {
     "name": "stdout",
     "output_type": "stream",
     "text": [
      "(1600, 480, 640)\n",
      "(1600, 1)\n"
     ]
    }
   ],
   "source": [
    "data = np.array(trainData)\n",
    "labels = np.array(labels)\n",
    "print(data.shape)\n",
    "print(labels.shape)"
   ]
  },
  {
   "cell_type": "code",
   "execution_count": 11,
   "metadata": {
    "executionInfo": {
     "elapsed": 3,
     "status": "ok",
     "timestamp": 1684142498304,
     "user": {
      "displayName": "hafsa alishba maheen",
      "userId": "05956034788869836757"
     },
     "user_tz": -300
    },
    "id": "9GndK-j0Mr62"
   },
   "outputs": [
    {
     "name": "stdout",
     "output_type": "stream",
     "text": [
      "Collecting scikit-learn\n",
      "  Downloading scikit_learn-1.2.2-cp39-cp39-win_amd64.whl (8.4 MB)\n",
      "     ---------------------------------------- 0.0/8.4 MB ? eta -:--:--\n",
      "     ---------------------------------------- 0.0/8.4 MB ? eta -:--:--\n",
      "      --------------------------------------- 0.1/8.4 MB 1.3 MB/s eta 0:00:07\n",
      "     - -------------------------------------- 0.2/8.4 MB 1.9 MB/s eta 0:00:05\n",
      "     -- ------------------------------------- 0.5/8.4 MB 2.6 MB/s eta 0:00:03\n",
      "     -- ------------------------------------- 0.5/8.4 MB 2.4 MB/s eta 0:00:04\n",
      "     ---- ----------------------------------- 1.0/8.4 MB 3.9 MB/s eta 0:00:02\n",
      "     ------ --------------------------------- 1.3/8.4 MB 4.2 MB/s eta 0:00:02\n",
      "     -------- ------------------------------- 1.7/8.4 MB 4.6 MB/s eta 0:00:02\n",
      "     --------- ------------------------------ 1.9/8.4 MB 4.8 MB/s eta 0:00:02\n",
      "     ----------- ---------------------------- 2.4/8.4 MB 5.3 MB/s eta 0:00:02\n",
      "     ------------- -------------------------- 2.9/8.4 MB 5.9 MB/s eta 0:00:01\n",
      "     --------------- ------------------------ 3.2/8.4 MB 6.1 MB/s eta 0:00:01\n",
      "     ------------------ --------------------- 3.8/8.4 MB 6.4 MB/s eta 0:00:01\n",
      "     ------------------- -------------------- 4.0/8.4 MB 6.5 MB/s eta 0:00:01\n",
      "     ------------------- -------------------- 4.0/8.4 MB 6.5 MB/s eta 0:00:01\n",
      "     ------------------- -------------------- 4.0/8.4 MB 6.5 MB/s eta 0:00:01\n",
      "     ------------------- -------------------- 4.0/8.4 MB 6.5 MB/s eta 0:00:01\n",
      "     ------------------- -------------------- 4.0/8.4 MB 6.5 MB/s eta 0:00:01\n",
      "     -------------------- ------------------- 4.2/8.4 MB 4.9 MB/s eta 0:00:01\n",
      "     -------------------- ------------------- 4.3/8.4 MB 4.8 MB/s eta 0:00:01\n",
      "     -------------------- ------------------- 4.4/8.4 MB 4.6 MB/s eta 0:00:01\n",
      "     ---------------------- ----------------- 4.7/8.4 MB 4.7 MB/s eta 0:00:01\n",
      "     ---------------------- ----------------- 4.7/8.4 MB 4.7 MB/s eta 0:00:01\n",
      "     ---------------------- ----------------- 4.7/8.4 MB 4.3 MB/s eta 0:00:01\n",
      "     ----------------------- ---------------- 5.0/8.4 MB 4.4 MB/s eta 0:00:01\n",
      "     ------------------------- -------------- 5.4/8.4 MB 4.6 MB/s eta 0:00:01\n",
      "     ---------------------------- ----------- 6.0/8.4 MB 4.8 MB/s eta 0:00:01\n",
      "     ------------------------------- -------- 6.6/8.4 MB 5.2 MB/s eta 0:00:01\n",
      "     --------------------------------- ------ 7.1/8.4 MB 5.3 MB/s eta 0:00:01\n",
      "     ----------------------------------- ---- 7.4/8.4 MB 5.4 MB/s eta 0:00:01\n",
      "     ------------------------------------- -- 7.8/8.4 MB 5.5 MB/s eta 0:00:01\n",
      "     ------------------------------------- -- 7.9/8.4 MB 5.5 MB/s eta 0:00:01\n",
      "     ---------------------------------------  8.4/8.4 MB 5.5 MB/s eta 0:00:01\n",
      "     ---------------------------------------  8.4/8.4 MB 5.5 MB/s eta 0:00:01\n",
      "     ---------------------------------------- 8.4/8.4 MB 5.2 MB/s eta 0:00:00\n",
      "Requirement already satisfied: numpy>=1.17.3 in c:\\users\\hp\\anaconda3\\envs\\game\\lib\\site-packages (from scikit-learn) (1.24.3)\n",
      "Collecting threadpoolctl>=2.0.0\n",
      "  Downloading threadpoolctl-3.1.0-py3-none-any.whl (14 kB)\n",
      "Collecting joblib>=1.1.1\n",
      "  Downloading joblib-1.2.0-py3-none-any.whl (297 kB)\n",
      "     ---------------------------------------- 0.0/298.0 kB ? eta -:--:--\n",
      "     - -------------------------------------- 10.2/298.0 kB ? eta -:--:--\n",
      "     ------- ----------------------------- 61.4/298.0 kB 656.4 kB/s eta 0:00:01\n",
      "     ----------- ------------------------- 92.2/298.0 kB 751.6 kB/s eta 0:00:01\n",
      "     ---------------------- --------------- 174.1/298.0 kB 1.1 MB/s eta 0:00:01\n",
      "     -------------------------------------- 298.0/298.0 kB 1.3 MB/s eta 0:00:00\n",
      "Requirement already satisfied: scipy>=1.3.2 in c:\\users\\hp\\anaconda3\\envs\\game\\lib\\site-packages (from scikit-learn) (1.10.1)\n",
      "Installing collected packages: threadpoolctl, joblib, scikit-learn\n",
      "Successfully installed joblib-1.2.0 scikit-learn-1.2.2 threadpoolctl-3.1.0\n"
     ]
    }
   ],
   "source": [
    "!pip install -U scikit-learn"
   ]
  },
  {
   "cell_type": "code",
   "execution_count": 12,
   "metadata": {
    "colab": {
     "base_uri": "https://localhost:8080/"
    },
    "executionInfo": {
     "elapsed": 904,
     "status": "ok",
     "timestamp": 1684142501552,
     "user": {
      "displayName": "hafsa alishba maheen",
      "userId": "05956034788869836757"
     },
     "user_tz": -300
    },
    "id": "bz5e0Bp7opMY",
    "outputId": "cf279cec-89a9-4c80-9eaa-21082bfbb309"
   },
   "outputs": [
    {
     "data": {
      "text/plain": [
       "[array([0, 1, 2, 3])]"
      ]
     },
     "execution_count": 12,
     "metadata": {},
     "output_type": "execute_result"
    }
   ],
   "source": [
    "from sklearn.preprocessing import OneHotEncoder\n",
    "enc = OneHotEncoder()\n",
    "onehot_labels = enc.fit_transform(labels).toarray()\n",
    "enc.categories_"
   ]
  },
  {
   "cell_type": "code",
   "execution_count": 13,
   "metadata": {
    "colab": {
     "base_uri": "https://localhost:8080/"
    },
    "executionInfo": {
     "elapsed": 377,
     "status": "ok",
     "timestamp": 1684142507779,
     "user": {
      "displayName": "hafsa alishba maheen",
      "userId": "05956034788869836757"
     },
     "user_tz": -300
    },
    "id": "tHph8gMOMwd4",
    "outputId": "165d7e03-c470-48c5-a207-150640140e95"
   },
   "outputs": [
    {
     "data": {
      "text/plain": [
       "array([0., 0., 0., 1.])"
      ]
     },
     "execution_count": 13,
     "metadata": {},
     "output_type": "execute_result"
    }
   ],
   "source": [
    "onehot_labels[1599]"
   ]
  },
  {
   "cell_type": "code",
   "execution_count": 14,
   "metadata": {
    "executionInfo": {
     "elapsed": 5,
     "status": "ok",
     "timestamp": 1684142511647,
     "user": {
      "displayName": "hafsa alishba maheen",
      "userId": "05956034788869836757"
     },
     "user_tz": -300
    },
    "id": "qSArlq3qNyOd"
   },
   "outputs": [],
   "source": [
    "from sklearn.model_selection import train_test_split\n",
    "X_train, X_test, y_train, y_test = train_test_split(data, onehot_labels, test_size=0.2, random_state=42, shuffle=True)"
   ]
  },
  {
   "cell_type": "code",
   "execution_count": 15,
   "metadata": {
    "colab": {
     "base_uri": "https://localhost:8080/"
    },
    "executionInfo": {
     "elapsed": 366,
     "status": "ok",
     "timestamp": 1684142518367,
     "user": {
      "displayName": "hafsa alishba maheen",
      "userId": "05956034788869836757"
     },
     "user_tz": -300
    },
    "id": "Dutrf-m6ODtG",
    "outputId": "8d849581-469e-4d86-cc8d-b9f0caed2a5c"
   },
   "outputs": [
    {
     "name": "stdout",
     "output_type": "stream",
     "text": [
      "X_train shape: (1280, 480, 640)\n",
      "y_train shape: (1280, 4)\n",
      "X_test shape: (320, 480, 640)\n",
      "y_test shape: (320, 4)\n"
     ]
    }
   ],
   "source": [
    "# print the shapes of the training and test sets\n",
    "print('X_train shape:', X_train.shape)\n",
    "print('y_train shape:', y_train.shape)\n",
    "print('X_test shape:', X_test.shape)\n",
    "print('y_test shape:', y_test.shape)"
   ]
  },
  {
   "cell_type": "code",
   "execution_count": 12,
   "metadata": {
    "executionInfo": {
     "elapsed": 11,
     "status": "ok",
     "timestamp": 1684134190729,
     "user": {
      "displayName": "hafsa alishba maheen",
      "userId": "05956034788869836757"
     },
     "user_tz": -300
    },
    "id": "rRi1Auleo2e7"
   },
   "outputs": [],
   "source": [
    "# import numpy as np\n",
    "\n",
    "\n",
    "# # splitting the data into x and y for training the network\n",
    "# xtrain = []\n",
    "# ytrain = []\n",
    "# # loop all images in data\n",
    "# for img in trainData:\n",
    "#     xtrain.append(img[0]) # add the image to x\n",
    "#     ytrain.append(int(img[1])) # add the result(cat/dog) to y\n",
    "\n",
    "# # separate the image data and labels into separate arrays\n",
    "# #X = trainData[:, 0]\n",
    "# #y = trainData[:, 1]\n",
    "\n",
    "# # convert the image data and labels to numpy arrays\n",
    "# xtrain = np.array(xtrain)\n",
    "# ytrain = np.array(ytrain)\n",
    "\n",
    "\n",
    "# # split the data into training and test sets\n",
    "# X_train, X_test, y_train, y_test = train_test_split(xtrain, ytrain, test_size=0.2, random_state=42)\n",
    "\n",
    "\n",
    "\n"
   ]
  },
  {
   "cell_type": "code",
   "execution_count": 13,
   "metadata": {
    "executionInfo": {
     "elapsed": 527,
     "status": "ok",
     "timestamp": 1684134193715,
     "user": {
      "displayName": "hafsa alishba maheen",
      "userId": "05956034788869836757"
     },
     "user_tz": -300
    },
    "id": "FmFSXajtqPjr"
   },
   "outputs": [],
   "source": [
    "# # displaying the first 16 images in our training data\n",
    "# plt.figure(figsize=(10,10))\n",
    "# for i in range(16):\n",
    "#     plt.subplot(4,4, i+1)\n",
    "#     plt.imshow(xtrain[i])"
   ]
  },
  {
   "cell_type": "code",
   "execution_count": 16,
   "metadata": {
    "executionInfo": {
     "elapsed": 8,
     "status": "ok",
     "timestamp": 1684142540539,
     "user": {
      "displayName": "hafsa alishba maheen",
      "userId": "05956034788869836757"
     },
     "user_tz": -300
    },
    "id": "lfwtcgs0OVGc"
   },
   "outputs": [],
   "source": [
    "X_train = X_train.reshape(-1,480,640,1)"
   ]
  },
  {
   "cell_type": "code",
   "execution_count": 17,
   "metadata": {
    "colab": {
     "base_uri": "https://localhost:8080/"
    },
    "executionInfo": {
     "elapsed": 32,
     "status": "ok",
     "timestamp": 1684142544651,
     "user": {
      "displayName": "hafsa alishba maheen",
      "userId": "05956034788869836757"
     },
     "user_tz": -300
    },
    "id": "3hC_wwXgq2gD",
    "outputId": "a13aa901-ce86-4511-8299-2cc027e3670b"
   },
   "outputs": [
    {
     "name": "stdout",
     "output_type": "stream",
     "text": [
      "Model: \"sequential\"\n",
      "_________________________________________________________________\n",
      " Layer (type)                Output Shape              Param #   \n",
      "=================================================================\n",
      " conv2d (Conv2D)             (None, 478, 638, 32)      320       \n",
      "                                                                 \n",
      " max_pooling2d (MaxPooling2D  (None, 239, 319, 32)     0         \n",
      " )                                                               \n",
      "                                                                 \n",
      " conv2d_1 (Conv2D)           (None, 237, 317, 64)      18496     \n",
      "                                                                 \n",
      " max_pooling2d_1 (MaxPooling  (None, 118, 158, 64)     0         \n",
      " 2D)                                                             \n",
      "                                                                 \n",
      " conv2d_2 (Conv2D)           (None, 116, 156, 64)      36928     \n",
      "                                                                 \n",
      " flatten (Flatten)           (None, 1158144)           0         \n",
      "                                                                 \n",
      " dense (Dense)               (None, 128)               148242560 \n",
      "                                                                 \n",
      " dense_1 (Dense)             (None, 64)                8256      \n",
      "                                                                 \n",
      " dense_2 (Dense)             (None, 4)                 260       \n",
      "                                                                 \n",
      "=================================================================\n",
      "Total params: 148,306,820\n",
      "Trainable params: 148,306,820\n",
      "Non-trainable params: 0\n",
      "_________________________________________________________________\n"
     ]
    }
   ],
   "source": [
    "model = models.Sequential()\n",
    "\n",
    "# first conv layer, 64 neurons, (3x3) shows the feature detector matrix, result would be a feature map\n",
    "model.add(layers.Conv2D(32, (3,3), activation='relu', input_shape = (480,640,1)))\n",
    "# hidden maxpooling layer, (2x2) shows the pooling matrix, converts feature map to a smaller image\n",
    "model.add(layers.MaxPooling2D((2,2)))\n",
    "\n",
    "# again get a new feature map and apply max pooling to it\n",
    "model.add(layers.Conv2D(64, (3,3), activation = 'relu'))\n",
    "model.add(layers.MaxPooling2D((2,2)))\n",
    "\n",
    "# the final convulutional layer to get all importance features of an image\n",
    "model.add(layers.Conv2D(64, (3,3), activation = 'relu'))\n",
    "# now we flatten the final feature map and obtain a full convolution map as a flatten 1D array\n",
    "model.add(layers.Flatten())\n",
    "\n",
    "# now we pass this into the neural network layers\n",
    "model.add(layers.Dense(128, activation = 'relu'))\n",
    "model.add(layers.Dense(64, activation = 'relu'))\n",
    "\n",
    "# output layer, 2 neurons because we have two catagories, softmax because we add all values to get a probabilty(0-1)\n",
    "model.add(layers.Dense(4, activation = 'softmax'))\n",
    "\n",
    "# now we compile the model, assign weights etc.\n",
    "model.compile(optimizer = 'adam', loss='categorical_crossentropy', metrics = ['accuracy'])\n",
    "model.summary()"
   ]
  },
  {
   "cell_type": "code",
   "execution_count": 16,
   "metadata": {
    "executionInfo": {
     "elapsed": 11,
     "status": "ok",
     "timestamp": 1684134479059,
     "user": {
      "displayName": "hafsa alishba maheen",
      "userId": "05956034788869836757"
     },
     "user_tz": -300
    },
    "id": "eIA3o0ulOuZ7"
   },
   "outputs": [],
   "source": [
    "# y_train= y_train.reshape(-1,4)"
   ]
  },
  {
   "cell_type": "code",
   "execution_count": 18,
   "metadata": {
    "colab": {
     "base_uri": "https://localhost:8080/"
    },
    "executionInfo": {
     "elapsed": 85677,
     "status": "ok",
     "timestamp": 1684142639896,
     "user": {
      "displayName": "hafsa alishba maheen",
      "userId": "05956034788869836757"
     },
     "user_tz": -300
    },
    "id": "Loozb4DbI9CA",
    "outputId": "9a8a5494-90f2-476f-99f5-3ebf900e5e2a"
   },
   "outputs": [
    {
     "name": "stdout",
     "output_type": "stream",
     "text": [
      "Epoch 1/5\n",
      "32/32 [==============================] - 259s 8s/step - loss: 610.1570 - accuracy: 0.6025 - val_loss: 0.1255 - val_accuracy: 0.9766\n",
      "Epoch 2/5\n",
      "32/32 [==============================] - 231s 7s/step - loss: 6.3887 - accuracy: 0.8340 - val_loss: 0.1153 - val_accuracy: 0.9844\n",
      "Epoch 3/5\n",
      "32/32 [==============================] - 230s 7s/step - loss: 0.0107 - accuracy: 0.9971 - val_loss: 0.2544 - val_accuracy: 0.9922\n",
      "Epoch 4/5\n",
      "32/32 [==============================] - 238s 7s/step - loss: 0.0221 - accuracy: 0.9980 - val_loss: 0.1466 - val_accuracy: 0.9727\n",
      "Epoch 5/5\n",
      "32/32 [==============================] - 238s 7s/step - loss: 0.0127 - accuracy: 0.9990 - val_loss: 0.0517 - val_accuracy: 0.9883\n"
     ]
    }
   ],
   "source": [
    "history = model.fit(X_train, y_train, epochs=5, validation_split=0.2, verbose=1)"
   ]
  },
  {
   "cell_type": "code",
   "execution_count": 19,
   "metadata": {},
   "outputs": [
    {
     "data": {
      "image/png": "[encoded data removed]",
      "text/plain": [
       "<Figure size 640x480 with 1 Axes>"
      ]
     },
     "metadata": {},
     "output_type": "display_data"
    }
   ],
   "source": [
    "plt.plot(history.history['loss'], color='red', label='training loss')\n",
    "plt.plot(history.history['val_loss'], color='blue', label='validation loss')\n",
    "plt.legend()\n",
    "plt.title('Traning Loss Against Epochs')\n",
    "plt.show()"
   ]
  },
  {
   "cell_type": "code",
   "execution_count": 20,
   "metadata": {},
   "outputs": [
    {
     "data": {
      "image/png": "[encoded data removed]",
      "text/plain": [
       "<Figure size 640x480 with 1 Axes>"
      ]
     },
     "metadata": {},
     "output_type": "display_data"
    }
   ],
   "source": [
    "plt.plot(history.history['accuracy'], color='red', label = 'training accuracy')\n",
    "plt.plot(history.history['val_accuracy'], color='blue', label = 'validation accuracy')\n",
    "plt.legend()\n",
    "plt.title('Traning Accuracy Against Epochs')\n",
    "plt.show()"
   ]
  },
  {
   "cell_type": "code",
   "execution_count": null,
   "metadata": {},
   "outputs": [],
   "source": []
  },
  {
   "cell_type": "code",
   "execution_count": 21,
   "metadata": {
    "colab": {
     "base_uri": "https://localhost:8080/"
    },
    "executionInfo": {
     "elapsed": 2153,
     "status": "ok",
     "timestamp": 1684142649038,
     "user": {
      "displayName": "hafsa alishba maheen",
      "userId": "05956034788869836757"
     },
     "user_tz": -300
    },
    "id": "GLKkh4x1rkkU",
    "outputId": "e81750b3-f2db-4f22-8903-297e3fc3c65e"
   },
   "outputs": [
    {
     "name": "stdout",
     "output_type": "stream",
     "text": [
      "10/10 [==============================] - 12s 1s/step - loss: 0.0117 - accuracy: 0.9969\n"
     ]
    },
    {
     "data": {
      "text/plain": [
       "[0.01167435571551323, 0.996874988079071]"
      ]
     },
     "execution_count": 21,
     "metadata": {},
     "output_type": "execute_result"
    }
   ],
   "source": [
    "X_test = X_test.reshape(-1,480,640,1)\n",
    "model.evaluate(X_test, y_test)"
   ]
  },
  {
   "cell_type": "code",
   "execution_count": 22,
   "metadata": {
    "executionInfo": {
     "elapsed": 21863,
     "status": "ok",
     "timestamp": 1684142678572,
     "user": {
      "displayName": "hafsa alishba maheen",
      "userId": "05956034788869836757"
     },
     "user_tz": -300
    },
    "id": "Fh44v0GGTPNZ"
   },
   "outputs": [],
   "source": [
    "model.save(\"trained_model.h5\")"
   ]
  },
  {
   "cell_type": "code",
   "execution_count": null,
   "metadata": {},
   "outputs": [],
   "source": []
  }
 ],
 "metadata": {
  "accelerator": "GPU",
  "colab": {
   "authorship_tag": "ABX9TyNvLQTrpDvtFvZvXcKLMTFI",
   "gpuType": "T4",
   "provenance": []
  },
  "gpuClass": "standard",
  "kernelspec": {
   "display_name": "Python 3 (ipykernel)",
   "language": "python",
   "name": "python3"
  },
  "language_info": {
   "codemirror_mode": {
    "name": "ipython",
    "version": 3
   },
   "file_extension": ".py",
   "mimetype": "text/x-python",
   "name": "python",
   "nbconvert_exporter": "python",
   "pygments_lexer": "ipython3",
   "version": "3.9.16"
  }
 },
 "nbformat": 4,
 "nbformat_minor": 1
}
